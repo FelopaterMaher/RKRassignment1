{
  "nbformat": 4,
  "nbformat_minor": 0,
  "metadata": {
    "colab": {
      "provenance": []
    },
    "kernelspec": {
      "name": "python3",
      "display_name": "Python 3"
    },
    "language_info": {
      "name": "python"
    }
  },
  "cells": [
    {
      "cell_type": "code",
      "source": [
        "import nltk"
      ],
      "metadata": {
        "id": "n2EB8Rn_qbV0"
      },
      "execution_count": 18,
      "outputs": []
    },
    {
      "cell_type": "code",
      "source": [
        "nltk.download('punkt')"
      ],
      "metadata": {
        "colab": {
          "base_uri": "https://localhost:8080/"
        },
        "id": "gwCvgELwBq2c",
        "outputId": "9af97b03-1681-4685-d0fb-03f4b7b8f3a2"
      },
      "execution_count": 19,
      "outputs": [
        {
          "output_type": "stream",
          "name": "stderr",
          "text": [
            "[nltk_data] Downloading package punkt to /root/nltk_data...\n",
            "[nltk_data]   Package punkt is already up-to-date!\n"
          ]
        },
        {
          "output_type": "execute_result",
          "data": {
            "text/plain": [
              "True"
            ]
          },
          "metadata": {},
          "execution_count": 19
        }
      ]
    },
    {
      "cell_type": "code",
      "source": [
        "from nltk.tokenize import word_tokenize"
      ],
      "metadata": {
        "id": "NlBPqNFlCVJE"
      },
      "execution_count": 20,
      "outputs": []
    },
    {
      "cell_type": "code",
      "source": [
        "words = word_tokenize(\"exists x forall y forall z ((P(y) -> Q(z)) -> (P(x) -> Q(x)))\")\n",
        "print(words)"
      ],
      "metadata": {
        "colab": {
          "base_uri": "https://localhost:8080/"
        },
        "id": "oV47-kWNFWu0",
        "outputId": "6a8d49be-a0ea-43ac-c2dd-ce7be34f7c37"
      },
      "execution_count": 21,
      "outputs": [
        {
          "output_type": "stream",
          "name": "stdout",
          "text": [
            "['exists', 'x', 'forall', 'y', 'forall', 'z', '(', '(', 'P', '(', 'y', ')', '-', '>', 'Q', '(', 'z', ')', ')', '-', '>', '(', 'P', '(', 'x', ')', '-', '>', 'Q', '(', 'x', ')', ')', ')']\n"
          ]
        }
      ]
    },
    {
      "cell_type": "code",
      "source": [
        "# elimenate implication\n",
        "i = 0\n",
        "while i < len(words):\n",
        "    if words[i] == '-':\n",
        "        words[i] = \"or\"\n",
        "        del words[i+1]\n",
        "        a = i-1\n",
        "        flag = False\n",
        "        close = -1\n",
        "        while a >= 0:\n",
        "            if words[a] == ')':\n",
        "                if flag == False:\n",
        "                  close += 2\n",
        "                  flag = True\n",
        "                else:\n",
        "                  close+=1\n",
        "\n",
        "            elif words[a] == '(':\n",
        "                if close == 0:\n",
        "                   words.insert(a+1,\"not\")\n",
        "                   break\n",
        "                close -= 1\n",
        "\n",
        "            elif close==0:\n",
        "                    words.insert(a, \"not\")\n",
        "                    break\n",
        "            a -= 1\n",
        "    i += 1\n",
        "ans = \"\"\n",
        "i = 0\n",
        "while i < len(words):\n",
        "  if words[i]==\"P\" or words[i]==\"Q\":\n",
        "    ans+= words[i]+words[i+1]+words[i+2]+words[i+3]+\" \"\n",
        "    i+=4\n",
        "    continue\n",
        "  ans+=words[i] + \" \"\n",
        "  i+=1\n",
        "\n",
        "print(ans)"
      ],
      "metadata": {
        "colab": {
          "base_uri": "https://localhost:8080/"
        },
        "id": "WQ5MpqMhDha0",
        "outputId": "3a091c6b-4e76-4ebf-9152-595d07b908a3"
      },
      "execution_count": 22,
      "outputs": [
        {
          "output_type": "stream",
          "name": "stdout",
          "text": [
            "exists x forall y forall z ( not ( not P(y) or Q(z) ) or ( not P(x) or Q(x) ) ) \n"
          ]
        }
      ]
    },
    {
      "cell_type": "code",
      "source": [
        "import re\n",
        "def move_quantifiers_left(formula):\n",
        "    quantifiers = re.findall(r'(forall|exists)\\s+(\\w+)\\s*', formula)\n",
        "    quantifiers = sorted(quantifiers, key=lambda x: x[1])\n",
        "    prenex = ''.join([f'{q[0]} {q[1]} ' for q in quantifiers])\n",
        "    formula = re.sub(r'(forall|exists)\\s+(\\w+)\\s*', '', formula)\n",
        "    return f'{prenex}{formula}'"
      ],
      "metadata": {
        "id": "MEb3dDl4h7qm"
      },
      "execution_count": 23,
      "outputs": []
    },
    {
      "cell_type": "markdown",
      "source": [
        "2. Move negation inward (Demorgan Law)\n",
        "3. Remove double-no"
      ],
      "metadata": {
        "id": "ndEwoIihvzHf"
      }
    },
    {
      "cell_type": "code",
      "source": [
        "words = word_tokenize(ans)\n",
        "def move_negation_inward(words):\n",
        "    i = 0\n",
        "\n",
        "    while i < len(words):\n",
        "        notMult = False\n",
        "        if words[i] == \"not\":\n",
        "            j = i + 1\n",
        "            flag = False\n",
        "            open_parentheses = 0\n",
        "            while j < len(words):\n",
        "                if (flag == True) and (open_parentheses == 0):\n",
        "                  j = i\n",
        "                  break\n",
        "                if words[j] == \"(\":\n",
        "                    flag = True\n",
        "                    open_parentheses += 1\n",
        "                elif words[j] == \")\":\n",
        "                    open_parentheses -= 1\n",
        "                if words[j] == \"not\" and open_parentheses == 1:\n",
        "                   notMult = True\n",
        "                   words[j] = \"not not\"\n",
        "                elif (words[j] == \"and\" ) and open_parentheses == 1:\n",
        "                    notMult = True\n",
        "                    words[j]==\"or\"\n",
        "                elif words[j] == \"or\" and open_parentheses == 1:\n",
        "                    notMult = True\n",
        "                    words[j] = \"and\"\n",
        "                elif (words[j] == \"Q\" or words[j] == \"P\") and open_parentheses == 1:\n",
        "                    if words[j-1]!= \"not not\":\n",
        "                         notMult = True\n",
        "                         words[j] = \" not \" + words[j]\n",
        "                j += 1\n",
        "        if notMult:\n",
        "            del words[i]\n",
        "            i = j+1\n",
        "        else:\n",
        "            i += 1\n",
        "    return words\n",
        "\n",
        "# Test case\n",
        "words = ['exists', 'x', 'forall', 'y', 'forall', 'z', '(', 'not', '(', 'not', 'P', '(', 'y', ')', 'or', 'Q', '(', 'z', ')', ')', 'or', '(', 'not', 'P', '(', 'x', ')', 'or', 'Q', '(', 'x', ')', ')', ')']\n",
        "move_negation_inward(words)\n",
        "ans = \"\"\n",
        "i = 0\n",
        "while i < len(words):\n",
        "  if words[i]==\"P\" or words[i]==\"Q\":\n",
        "    ans+= words[i]+words[i+1]+words[i+2]+words[i+3]+\" \"\n",
        "    i+=4\n",
        "    continue\n",
        "  ans+=words[i] + \" \"\n",
        "  i+=1\n",
        "# p incorrect\n",
        "print(ans)\n"
      ],
      "metadata": {
        "id": "87GJBiPFwBBo",
        "colab": {
          "base_uri": "https://localhost:8080/"
        },
        "outputId": "0c453f39-d03e-4dd1-db35-c8b584cafcfc"
      },
      "execution_count": 24,
      "outputs": [
        {
          "output_type": "stream",
          "name": "stdout",
          "text": [
            "exists x forall y forall z ( ( not not P(y) and  not Q ( z ) ) or ( not P(x) or Q(x) ) ) \n"
          ]
        }
      ]
    },
    {
      "cell_type": "markdown",
      "source": [
        " Remove double-not."
      ],
      "metadata": {
        "id": "Q8XYp8W_SH6b"
      }
    },
    {
      "cell_type": "code",
      "source": [
        "def remove_double_not(words):\n",
        "  words.remove(\"not not\")\n",
        "\n",
        "remove_double_not(words)\n",
        "ans = \"\"\n",
        "i = 0\n",
        "# edit the text (text processing)\n",
        "while i < len(words):\n",
        "  if words[i]==\"P\" or words[i]==\"Q\":\n",
        "    ans+= words[i]+words[i+1]+words[i+2]+words[i+3]+\" \"\n",
        "    i+=4\n",
        "    continue\n",
        "  ans+=words[i] + \" \"\n",
        "  i+=1\n",
        "# p incorrect\n",
        "print(ans)"
      ],
      "metadata": {
        "colab": {
          "base_uri": "https://localhost:8080/"
        },
        "id": "WPHcDd_pSJ-z",
        "outputId": "3d9566b0-6fa7-4554-8094-c758a87fc711"
      },
      "execution_count": 25,
      "outputs": [
        {
          "output_type": "stream",
          "name": "stdout",
          "text": [
            "exists x forall y forall z ( ( P(y) and  not Q ( z ) ) or ( not P(x) or Q(x) ) ) \n"
          ]
        }
      ]
    },
    {
      "cell_type": "code",
      "source": [
        "from ctypes import string_at\n",
        "# split quantifiers from the formula\n",
        "def move_quantifiers_left(string):\n",
        "    quantifiers = re.findall(r'(forall|exists)\\s+(\\w+)\\s*', string)\n",
        "    print(quantifiers)\n",
        "    quantifiers = sorted(quantifiers, key=lambda x: x[1])\n",
        "    print(quantifiers)\n",
        "    prenex = ''.join([f'{q[0]} {q[1]} ' for q in quantifiers])\n",
        "    print(prenex)\n",
        "    string= re.sub(r'(forall|exists)\\s+(\\w+)\\s*', '', string)\n",
        "    print(string)\n",
        "    return f'{prenex}{string}'\n",
        "move_quantifiers_left(ans)"
      ],
      "metadata": {
        "colab": {
          "base_uri": "https://localhost:8080/",
          "height": 105
        },
        "id": "uEg4XefPVDXz",
        "outputId": "0de291de-41f0-484a-d600-27bbb557b055"
      },
      "execution_count": 26,
      "outputs": [
        {
          "output_type": "stream",
          "name": "stdout",
          "text": [
            "[('exists', 'x'), ('forall', 'y'), ('forall', 'z')]\n",
            "[('exists', 'x'), ('forall', 'y'), ('forall', 'z')]\n",
            "exists x forall y forall z \n",
            "( ( P(y) and  not Q ( z ) ) or ( not P(x) or Q(x) ) ) \n"
          ]
        },
        {
          "output_type": "execute_result",
          "data": {
            "text/plain": [
              "'exists x forall y forall z ( ( P(y) and  not Q ( z ) ) or ( not P(x) or Q(x) ) ) '"
            ],
            "application/vnd.google.colaboratory.intrinsic+json": {
              "type": "string"
            }
          },
          "metadata": {},
          "execution_count": 26
        }
      ]
    },
    {
      "cell_type": "code",
      "source": [
        "from collections import defaultdict\n",
        "\n",
        "# helper function to check if the word is variable\n",
        "def IsVar(word):\n",
        "    pattern = r'^[a-zA-Z]+$'\n",
        "    return  re.match(pattern, word)\n",
        "\n",
        "# helper function to get the variable name inside the ()\n",
        "def findvar(word):\n",
        "    pattern = r'\\b([a-zA-Z]+)\\(([a-zA-Z]+)\\)'\n",
        "    # Find matches of the pattern in the word\n",
        "    matches = re.findall(pattern, word)\n",
        "    variables = []\n",
        "    for match in matches:\n",
        "        variables.append(match[1])\n",
        "    if not variables:\n",
        "        mat = None\n",
        "    else:\n",
        "        mat = variables[0]\n",
        "    return mat\n",
        "\n",
        "\n",
        "# looping for the formula\n",
        "def stand(formula):\n",
        "    standrizedFormula = ''\n",
        "    words = formula.split()\n",
        "    variable_map = defaultdict(list)\n",
        "    index = 0\n",
        "    for i, word in enumerate(words):\n",
        "        if word == \"forall\" or word ==\"exists\":\n",
        "            # if the map is not empty\n",
        "            if variable_map:\n",
        "                key_to_check = words[i+1]\n",
        "                # Check if the variable exists in the map\n",
        "                if key_to_check in variable_map:\n",
        "                    index+=1\n",
        "            standrizedFormula+= (word + ' ')\n",
        "        elif (IsVar(word)) and (word != \"and\" and word != \"or\" and \"not\") :\n",
        "            # print(word)\n",
        "            variable_map[f'{word}'].append(index)\n",
        "            if index > 0 :\n",
        "                newVar = word + (f'{index}')\n",
        "            else:\n",
        "                newVar = word\n",
        "            standrizedFormula+= (newVar + ' ')\n",
        "\n",
        "        elif (findvar(word)) and (word != \"and\" and word != \"or\"):\n",
        "            # print(findvar(word))\n",
        "            vaR = findvar(word)\n",
        "            variable_map[f'{vaR}'].append(index)\n",
        "            if index > 0 :\n",
        "                # vaR[-1] because if the variable was more than 1 letter\n",
        "                # i made sure that i will always append in the last letter\n",
        "                letterindex = word.index(vaR[-1]) + 1\n",
        "                newVar = word[:letterindex] + (f'{index}') + word[letterindex:]\n",
        "\n",
        "            else:\n",
        "                newVar = word\n",
        "            standrizedFormula+= (newVar + ' ')\n",
        "        else:\n",
        "            standrizedFormula+= word + ' '\n",
        "\n",
        "    # print(standrizedFormula)\n",
        "    return standrizedFormula\n",
        "\n",
        "formula = \"forall x exists y (P(x) and Q(y)) and exists y R(y)\"\n",
        "sentence = \"This is a sample sentence.\"\n",
        "standformula = stand(formula)\n",
        "print(standformula)"
      ],
      "metadata": {
        "colab": {
          "base_uri": "https://localhost:8080/"
        },
        "id": "I6IeGPFTWODK",
        "outputId": "3f9a09f1-18b2-4461-927e-3406bbe3b409"
      },
      "execution_count": 27,
      "outputs": [
        {
          "output_type": "stream",
          "name": "stdout",
          "text": [
            "forall x exists y (P(x) and Q(y)) and exists y1 R(y1) \n"
          ]
        }
      ]
    },
    {
      "cell_type": "code",
      "source": [
        "def eliminate_universal_quantifiers(formula):\n",
        "    # Find all universal quantifiers and their variables\n",
        "    universal_quantifiers = re.findall(r'forall\\s+(\\w+)\\s*', formula)\n",
        "\n",
        "    # Replace each universally quantified variable with a Skolem constant\n",
        "    skolem_constants = ['a', 'b', 'c', 'd', 'e']  # Use a list of Skolem constants for substitution\n",
        "    skolem_mapping = dict(zip(universal_quantifiers, skolem_constants))\n",
        "    for variable, constant in skolem_mapping.items():\n",
        "        formula = re.sub(r'\\b' + re.escape(variable) + r'\\b', constant, formula)\n",
        "\n",
        "    # Remove universal quantifiers from the formula\n",
        "    formula = re.sub(r'forall\\s+(\\w+)\\s*', '', formula)\n",
        "\n",
        "    return formula\n",
        "\n",
        "formula = \"forall x (P(x) ∧ Q(y))\"\n",
        "result = eliminate_universal_quantifiers(formula)\n",
        "print(\"Formula after eliminating universal quantifiers:\", result)\n",
        "\n",
        "formula = \"exists x forall y forall z ( ( P(y) and  not Q ( z ) ) or ( not P(x) or Q(x) ) ) \"\n",
        "result = eliminate_universal_quantifiers(formula)\n",
        "print(\"Formula after eliminating universal quantifiers:\", result)"
      ],
      "metadata": {
        "colab": {
          "base_uri": "https://localhost:8080/"
        },
        "id": "SXv_A7UW5Ku_",
        "outputId": "55bcf1cc-7205-43f9-ca23-5edf94182d35"
      },
      "execution_count": 28,
      "outputs": [
        {
          "output_type": "stream",
          "name": "stdout",
          "text": [
            "Formula after eliminating universal quantifiers: (P(a) ∧ Q(y))\n",
            "Formula after eliminating universal quantifiers: exists x ( ( P(a) and  not Q ( b ) ) or ( not P(x) or Q(x) ) ) \n"
          ]
        }
      ]
    },
    {
      "cell_type": "markdown",
      "source": [
        "skolization"
      ],
      "metadata": {
        "id": "_c-c1bfCtlgS"
      }
    },
    {
      "cell_type": "code",
      "source": [
        "import random\n",
        "import string\n",
        "tokens = ['exists', 'x', 'forall', 'y', 'forall', 'z', '(', 'not', '(', 'not', 'P', '(', 'y', ')', 'or', 'Q', '(', 'z', ')', ')', 'or', '(', 'not', 'P', '(', 'x', ')', 'or', 'Q', '(', 'x', ')', ')', ')']\n",
        "\n",
        "\n",
        "def skolemizationExists(tk):\n",
        "    def generateRandomLetters(varia,listoffun):\n",
        "        letter = random.choice(string.ascii_lowercase)\n",
        "        while letter in varia and letter in listoffun:\n",
        "            if len(varia) != 26 and len(listoffun) !=26 :\n",
        "                letter = random.choice(string.ascii_lowercase)\n",
        "            else:\n",
        "                for i in range(5):\n",
        "                    letter += random.choice(string.ascii_lowercase)\n",
        "        return letter\n",
        "\n",
        "    def detectVariables(rule):\n",
        "        i = 0\n",
        "        listofvariables = []\n",
        "        while i < len(rule):\n",
        "            if rule[i] == \"exists\" or rule[i] == \"forall\":\n",
        "                listofvariables.append(rule[i+1])\n",
        "            i+=1\n",
        "        return listofvariables\n",
        "\n",
        "    def detectFunctions(rule):\n",
        "        i = 0\n",
        "        functionList = []\n",
        "        listofvar = detectVariables(rule)\n",
        "        while i < len(rule):\n",
        "            if rule[i] == '(' and ( rule[i-1] != 'not' and rule[i-1] != 'and' and rule[i-1] != 'or' ) and (rule[i-1] not in listofvar):\n",
        "                functionList.append(rule[i-1])\n",
        "            i+=1\n",
        "        print(functionList)\n",
        "        return functionList\n",
        "\n",
        "    varlist = []\n",
        "    def existvariable():\n",
        "        i = 0\n",
        "        while i < len(tk):\n",
        "            if tk[i] == \"exists\":\n",
        "                varlist.append(tk[i+1])\n",
        "            i+=1\n",
        "\n",
        "    existvariable()\n",
        "    listOfFunctions = detectFunctions(tk)\n",
        "    i = 0\n",
        "    newL = generateRandomLetters(varlist,listOfFunctions)\n",
        "    newSentence = ''\n",
        "    while i < len(tk):\n",
        "        if tk[i] == \"exists\":\n",
        "            i+=1\n",
        "        elif tk[i] in varlist:\n",
        "            newSentence+= newL + '(' + f'{tk[i]}' + ')'\n",
        "        else:\n",
        "            newSentence+=tk[i]+' '\n",
        "        i+=1\n",
        "\n",
        "    return newSentence\n",
        "words = word_tokenize(result)\n",
        "answer = skolemizationExists(words)\n",
        "print(answer)"
      ],
      "metadata": {
        "colab": {
          "base_uri": "https://localhost:8080/"
        },
        "id": "df64aSgOtm9l",
        "outputId": "14b7995f-0750-4e8e-f131-3950deaf6d15"
      },
      "execution_count": 29,
      "outputs": [
        {
          "output_type": "stream",
          "name": "stdout",
          "text": [
            "['(', 'P', 'Q', 'P', 'Q']\n",
            "( ( P ( a ) and not Q ( b ) ) or ( not P ( o(x)) or Q ( o(x)) ) ) \n"
          ]
        }
      ]
    },
    {
      "cell_type": "code",
      "source": [
        "def get_clauses(expression):\n",
        "    # Remove unnecessary spaces\n",
        "    expression = expression.replace(\"(\", \"\").replace(\")\", \"\").strip()\n",
        "\n",
        "    # Split the expression into its clauses based on the 'or' operator\n",
        "    clauses = expression.split(' or ')\n",
        "\n",
        "    # Remove any leading or trailing spaces from each clause\n",
        "    clauses = [clause.strip() for clause in clauses]\n",
        "\n",
        "    # Split each clause based on the 'and' operator\n",
        "    split_clauses = []\n",
        "    for clause in clauses:\n",
        "        split_clause = clause.split(' and ')\n",
        "        split_clauses.extend(split_clause)\n",
        "\n",
        "    # Remove any leading or trailing spaces from each split clause\n",
        "    split_clauses = [clause.strip() for clause in split_clauses]\n",
        "\n",
        "    return split_clauses\n",
        "\n",
        "# Given expression\n",
        "expression = \"( ( P ( a ) and not Q ( b ) ) or ( not P ( f(x)) or Q ( f(x)) ) )\"\n",
        "\n",
        "# Extract clauses from the expression\n",
        "clauses = get_clauses(expression)\n",
        "\n",
        "# Print the list of clauses\n",
        "print(\"Clauses:\", clauses)"
      ],
      "metadata": {
        "id": "a2Kui-U1vT14",
        "colab": {
          "base_uri": "https://localhost:8080/"
        },
        "outputId": "4a8076ef-5d30-4db4-ad6d-4a0c18defa06"
      },
      "execution_count": 30,
      "outputs": [
        {
          "output_type": "stream",
          "name": "stdout",
          "text": [
            "Clauses: ['P  a', 'not Q  b', 'not P  fx', 'Q  fx']\n"
          ]
        }
      ]
    },
    {
      "cell_type": "code",
      "source": [
        "from nltk.tokenize import word_tokenize\n",
        "\n",
        "def getfunction(clauses):\n",
        "    list_of_functions = {'P': 0, 'Q': 0}\n",
        "\n",
        "    # Loop through the clauses and count occurrences of 'P' and 'Q'\n",
        "    for clause in clauses:\n",
        "        tokens = word_tokenize(clause)\n",
        "        for i in range(len(tokens)):\n",
        "            if tokens[i] == 'not':\n",
        "                if tokens[i + 1] in list_of_functions:\n",
        "                    list_of_functions[tokens[i + 1]] -= 1\n",
        "                break\n",
        "            elif tokens[i] in list_of_functions:\n",
        "                list_of_functions[tokens[i]] += 1\n",
        "                break\n",
        "\n",
        "    return list_of_functions\n",
        "\n",
        "ans = getfunction(clauses)\n",
        "flag = True\n",
        "\n",
        "# Iterate over the items of the dictionary\n",
        "for item, val in ans.items():\n",
        "    if val != 0:\n",
        "        flag = False\n",
        "\n",
        "if flag:\n",
        "    print(\"Null\")\n",
        "else:\n",
        "    print(\"No Solution\")"
      ],
      "metadata": {
        "colab": {
          "base_uri": "https://localhost:8080/"
        },
        "id": "9XQkdHfDmYHW",
        "outputId": "0a167bc9-114e-444f-9030-e204885595dd"
      },
      "execution_count": 31,
      "outputs": [
        {
          "output_type": "stream",
          "name": "stdout",
          "text": [
            "Null\n"
          ]
        }
      ]
    },
    {
      "cell_type": "code",
      "source": [
        "# not important for now\n",
        "result_string = ', '.join(clauses)\n",
        "words = word_tokenize(result_string)\n",
        "# print(words)\n",
        "def generateRandomLetters(listoffun):\n",
        "    letter = random.choice(string.ascii_lowercase)\n",
        "    while letter in listoffun:\n",
        "        if len(listoffun) !=26 :\n",
        "            letter = random.choice(string.ascii_lowercase)\n",
        "        else:\n",
        "            for i in range(5):\n",
        "                letter += random.choice(string.ascii_lowercase)\n",
        "    return letter\n",
        "\n",
        "def changeNames(sent):\n",
        "  newsent = ''\n",
        "  varlist = []\n",
        "  for i in sent:\n",
        "    if i in varlist:\n",
        "      newL = generateRandomLetters(varlist)\n",
        "      newsent+= newL+' '\n",
        "      varlist.append(newL)\n",
        "    elif i == 'not'or i == ',':\n",
        "      newsent+= i + ' '\n",
        "    else :\n",
        "      varlist.append(i)\n",
        "      newsent+= i + ' '\n",
        "  print(newsent)\n",
        "\n",
        "changeNames(words)"
      ],
      "metadata": {
        "colab": {
          "base_uri": "https://localhost:8080/"
        },
        "id": "F4dl8fFw6lPI",
        "outputId": "be02410d-ec25-4951-cbbe-e10db6e4ea7c"
      },
      "execution_count": 32,
      "outputs": [
        {
          "output_type": "stream",
          "name": "stdout",
          "text": [
            "P a , not Q b , not u fx , o c \n"
          ]
        }
      ]
    }
  ]
}